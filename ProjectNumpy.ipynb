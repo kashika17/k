{
 "cells": [
  {
   "cell_type": "code",
   "execution_count": 1,
   "id": "a7665b7a-de30-4e90-8fc7-72e07436f7f9",
   "metadata": {},
   "outputs": [],
   "source": [
    "import numpy as np"
   ]
  },
  {
   "cell_type": "code",
   "execution_count": 2,
   "id": "34affaa2-b1e8-42da-9fe2-417b43ee4d2e",
   "metadata": {},
   "outputs": [],
   "source": [
    "data=[\n",
    "    [[[12,30],[10,22],[15,31],[14,32],[6,27],[7,22],[8,20]],\n",
    "     [[6,22],[7,26],[12,23],[-13,30],[10,31],[8,30],[8,29]],\n",
    "     [[7,22],[12,32],[7,21],[15,28],[9,25],[9,24],[15,24]],\n",
    "     [[7,29],[9,24],[6,22],[7,31],[10,22],[6,25],[10,25]]], #november\n",
    "    [[[9,24],[11,27],[11,27],[8,30],[11,30],[15,20],[10,22]],\n",
    "     [[13,25],[13,31],[11,31],[6,31],[10,32],[6,24],[12,31]],\n",
    "     [[15,22],[6,24],[14,20],[6,29],[6,27],[11,26],[10,21]],\n",
    "     [[15,20],[12,20],[7,27],[8,29],[7,21],[7,22],[15,27]]],  #december\n",
    "    [[[7,20],[6,18],[8,18],[7,18],[6,22],[5,6],[22,3]],\n",
    "     [[8,21],[3,21],[4,21],[3,18],[6,18],[2,7],[21,2]],\n",
    "     [[3,21],[2,19],[4,21],[4,21],[3,19],[6,8],[18,5]], \n",
    "     [[8,18],[4,20],[8,22],[3,20],[8,20],[7,2],[18,6]]], #january\n",
    "    [[[12,18],[7,19],[-10,20],[12,21],[7,21],[8,71],[21,8]],\n",
    "     [[11,19],[9,18],[8,22],[8,22],[11,19],[11,10],[21,9]],\n",
    "     [[9,20],[11,19],[7,18],[10,21],[11,22],[9,12],[18,8]],\n",
    "     [[7,19],[12,20],[12,21],[10,18],[8,18],[12,12],[21,11]]] #feburary\n",
    "]"
   ]
  },
  {
   "cell_type": "markdown",
   "id": "6b2fd863-8ee1-4688-b453-a73720dc02ce",
   "metadata": {},
   "source": [
    "                                                               TASK 1 "
   ]
  },
  {
   "cell_type": "code",
   "execution_count": 3,
   "id": "ec4de7b0-bcc9-43c5-af7d-ca7274639a45",
   "metadata": {},
   "outputs": [
    {
     "data": {
      "text/plain": [
       "array([[[[ 12,  30],\n",
       "         [ 10,  22],\n",
       "         [ 15,  31],\n",
       "         [ 14,  32],\n",
       "         [  6,  27],\n",
       "         [  7,  22],\n",
       "         [  8,  20]],\n",
       "\n",
       "        [[  6,  22],\n",
       "         [  7,  26],\n",
       "         [ 12,  23],\n",
       "         [-13,  30],\n",
       "         [ 10,  31],\n",
       "         [  8,  30],\n",
       "         [  8,  29]],\n",
       "\n",
       "        [[  7,  22],\n",
       "         [ 12,  32],\n",
       "         [  7,  21],\n",
       "         [ 15,  28],\n",
       "         [  9,  25],\n",
       "         [  9,  24],\n",
       "         [ 15,  24]],\n",
       "\n",
       "        [[  7,  29],\n",
       "         [  9,  24],\n",
       "         [  6,  22],\n",
       "         [  7,  31],\n",
       "         [ 10,  22],\n",
       "         [  6,  25],\n",
       "         [ 10,  25]]],\n",
       "\n",
       "\n",
       "       [[[  9,  24],\n",
       "         [ 11,  27],\n",
       "         [ 11,  27],\n",
       "         [  8,  30],\n",
       "         [ 11,  30],\n",
       "         [ 15,  20],\n",
       "         [ 10,  22]],\n",
       "\n",
       "        [[ 13,  25],\n",
       "         [ 13,  31],\n",
       "         [ 11,  31],\n",
       "         [  6,  31],\n",
       "         [ 10,  32],\n",
       "         [  6,  24],\n",
       "         [ 12,  31]],\n",
       "\n",
       "        [[ 15,  22],\n",
       "         [  6,  24],\n",
       "         [ 14,  20],\n",
       "         [  6,  29],\n",
       "         [  6,  27],\n",
       "         [ 11,  26],\n",
       "         [ 10,  21]],\n",
       "\n",
       "        [[ 15,  20],\n",
       "         [ 12,  20],\n",
       "         [  7,  27],\n",
       "         [  8,  29],\n",
       "         [  7,  21],\n",
       "         [  7,  22],\n",
       "         [ 15,  27]]],\n",
       "\n",
       "\n",
       "       [[[  7,  20],\n",
       "         [  6,  18],\n",
       "         [  8,  18],\n",
       "         [  7,  18],\n",
       "         [  6,  22],\n",
       "         [  5,   6],\n",
       "         [ 22,   3]],\n",
       "\n",
       "        [[  8,  21],\n",
       "         [  3,  21],\n",
       "         [  4,  21],\n",
       "         [  3,  18],\n",
       "         [  6,  18],\n",
       "         [  2,   7],\n",
       "         [ 21,   2]],\n",
       "\n",
       "        [[  3,  21],\n",
       "         [  2,  19],\n",
       "         [  4,  21],\n",
       "         [  4,  21],\n",
       "         [  3,  19],\n",
       "         [  6,   8],\n",
       "         [ 18,   5]],\n",
       "\n",
       "        [[  8,  18],\n",
       "         [  4,  20],\n",
       "         [  8,  22],\n",
       "         [  3,  20],\n",
       "         [  8,  20],\n",
       "         [  7,   2],\n",
       "         [ 18,   6]]],\n",
       "\n",
       "\n",
       "       [[[ 12,  18],\n",
       "         [  7,  19],\n",
       "         [-10,  20],\n",
       "         [ 12,  21],\n",
       "         [  7,  21],\n",
       "         [  8,  71],\n",
       "         [ 21,   8]],\n",
       "\n",
       "        [[ 11,  19],\n",
       "         [  9,  18],\n",
       "         [  8,  22],\n",
       "         [  8,  22],\n",
       "         [ 11,  19],\n",
       "         [ 11,  10],\n",
       "         [ 21,   9]],\n",
       "\n",
       "        [[  9,  20],\n",
       "         [ 11,  19],\n",
       "         [  7,  18],\n",
       "         [ 10,  21],\n",
       "         [ 11,  22],\n",
       "         [  9,  12],\n",
       "         [ 18,   8]],\n",
       "\n",
       "        [[  7,  19],\n",
       "         [ 12,  20],\n",
       "         [ 12,  21],\n",
       "         [ 10,  18],\n",
       "         [  8,  18],\n",
       "         [ 12,  12],\n",
       "         [ 21,  11]]]])"
      ]
     },
     "execution_count": 3,
     "metadata": {},
     "output_type": "execute_result"
    }
   ],
   "source": [
    "temperature=np.array(data)\n",
    "temperature"
   ]
  },
  {
   "cell_type": "markdown",
   "id": "2c279d2a-45e4-4986-97b5-e5771af1ad0c",
   "metadata": {},
   "source": [
    "                                                             TASK 2"
   ]
  },
  {
   "cell_type": "code",
   "execution_count": 5,
   "id": "6103f7e7-1778-40bb-a69a-cf491b20ee6a",
   "metadata": {},
   "outputs": [
    {
     "name": "stdout",
     "output_type": "stream",
     "text": [
      "shape: (4, 4, 7, 2) dimension: 4\n"
     ]
    }
   ],
   "source": [
    "print('shape:',temperature.shape,'dimension:',temperature.ndim)"
   ]
  },
  {
   "cell_type": "code",
   "execution_count": 8,
   "id": "36935ba9-f92f-49a7-8ec9-bf7aa77af124",
   "metadata": {},
   "outputs": [],
   "source": [
    "months=('November','December','January','Feburary')"
   ]
  },
  {
   "cell_type": "code",
   "execution_count": 17,
   "id": "6d1f38cd-df7e-4a46-830f-0d0f1df5f228",
   "metadata": {},
   "outputs": [],
   "source": [
    "days=('Monday','Tuesday','Wednesday','Thursday','Friday','Saturday','Sunday')"
   ]
  },
  {
   "cell_type": "markdown",
   "id": "6d273627-0a2f-445b-a873-b3d909c0022d",
   "metadata": {},
   "source": [
    "                                                             TASK 3"
   ]
  },
  {
   "cell_type": "code",
   "execution_count": 23,
   "id": "73029aae-0f3f-4bd8-b2b7-6861b1a02da6",
   "metadata": {},
   "outputs": [
    {
     "name": "stdout",
     "output_type": "stream",
     "text": [
      "              November\n",
      "Monday : [12 30]\n",
      "Tuesday : [10 22]\n",
      "Wednesday : [15 31]\n",
      "Thursday : [14 32]\n",
      "Friday : [ 6 27]\n",
      "Saturday : [ 7 22]\n",
      "Sunday : [ 8 20]\n",
      "              December\n",
      "Monday : [ 9 24]\n",
      "Tuesday : [11 27]\n",
      "Wednesday : [11 27]\n",
      "Thursday : [ 8 30]\n",
      "Friday : [11 30]\n",
      "Saturday : [15 20]\n",
      "Sunday : [10 22]\n",
      "              January\n",
      "Monday : [ 7 20]\n",
      "Tuesday : [ 6 18]\n",
      "Wednesday : [ 8 18]\n",
      "Thursday : [ 7 18]\n",
      "Friday : [ 6 22]\n",
      "Saturday : [5 6]\n",
      "Sunday : [22  3]\n",
      "              Feburary\n",
      "Monday : [12 18]\n",
      "Tuesday : [ 7 19]\n",
      "Wednesday : [-10  20]\n",
      "Thursday : [12 21]\n",
      "Friday : [ 7 21]\n",
      "Saturday : [ 8 71]\n",
      "Sunday : [21  8]\n"
     ]
    }
   ],
   "source": [
    "for j in range(4):\n",
    "    print(\"             \",months[j])\n",
    "    for i in range(7):\n",
    "        print(days[i],':',temperature[j][0][i])"
   ]
  },
  {
   "cell_type": "markdown",
   "id": "ceeb4e30-acbc-482a-ae9d-313624fb8d96",
   "metadata": {},
   "source": [
    "                                                            TASK 4"
   ]
  },
  {
   "cell_type": "code",
   "execution_count": 26,
   "id": "3dd8e94b-1d80-4d21-91b0-045049bad173",
   "metadata": {},
   "outputs": [],
   "source": [
    "weeks=('Week 1','Week 2','Week 3','Week 4')"
   ]
  },
  {
   "cell_type": "code",
   "execution_count": 29,
   "id": "330bf3d6-841e-465b-ab3a-9c595ed41051",
   "metadata": {},
   "outputs": [
    {
     "name": "stdout",
     "output_type": "stream",
     "text": [
      "              November\n",
      "Tuesday\n",
      "Week 1 : [10 22]\n",
      "Week 2 : [ 7 26]\n",
      "Week 3 : [12 32]\n",
      "Week 4 : [ 9 24]\n",
      "              December\n",
      "Tuesday\n",
      "Week 1 : [11 27]\n",
      "Week 2 : [13 31]\n",
      "Week 3 : [ 6 24]\n",
      "Week 4 : [12 20]\n",
      "              January\n",
      "Tuesday\n",
      "Week 1 : [ 6 18]\n",
      "Week 2 : [ 3 21]\n",
      "Week 3 : [ 2 19]\n",
      "Week 4 : [ 4 20]\n",
      "              Feburary\n",
      "Tuesday\n",
      "Week 1 : [ 7 19]\n",
      "Week 2 : [ 9 18]\n",
      "Week 3 : [11 19]\n",
      "Week 4 : [12 20]\n"
     ]
    }
   ],
   "source": [
    "for i in range(4):\n",
    "    print(\"             \",months[i])\n",
    "    print(\"Tuesday\")\n",
    "    for j in range(4):\n",
    "        print(weeks[j],':',temperature[i][j][1])"
   ]
  },
  {
   "cell_type": "markdown",
   "id": "e12f2bf3-60c0-4304-8c80-6e0b61bb4e77",
   "metadata": {},
   "source": [
    "                                                            TASK 5"
   ]
  },
  {
   "cell_type": "code",
   "execution_count": 38,
   "id": "f671a3b1-7ffc-40d9-963e-84e3f6acd475",
   "metadata": {},
   "outputs": [
    {
     "name": "stdout",
     "output_type": "stream",
     "text": [
      "              December\n",
      "         Week 1 :\n",
      "Monday : 24\n",
      "Tuesday : 27\n",
      "Wednesday : 27\n",
      "Thursday : 30\n",
      "Friday : 30\n",
      "Saturday : 20\n",
      "         Week 2 :\n",
      "Monday : 25\n",
      "Tuesday : 31\n",
      "Wednesday : 31\n",
      "Thursday : 31\n",
      "Friday : 32\n",
      "Saturday : 24\n",
      "         Week 3 :\n",
      "Monday : 22\n",
      "Tuesday : 24\n",
      "Wednesday : 20\n",
      "Thursday : 29\n",
      "Friday : 27\n",
      "Saturday : 26\n",
      "         Week 4 :\n",
      "Monday : 20\n",
      "Tuesday : 20\n",
      "Wednesday : 27\n",
      "Thursday : 29\n",
      "Friday : 21\n",
      "Saturday : 22\n",
      "              Feburary\n",
      "         Week 1 :\n",
      "Monday : 18\n",
      "Tuesday : 19\n",
      "Wednesday : 20\n",
      "Thursday : 21\n",
      "Friday : 21\n",
      "Saturday : 71\n",
      "         Week 2 :\n",
      "Monday : 19\n",
      "Tuesday : 18\n",
      "Wednesday : 22\n",
      "Thursday : 22\n",
      "Friday : 19\n",
      "Saturday : 10\n",
      "         Week 3 :\n",
      "Monday : 20\n",
      "Tuesday : 19\n",
      "Wednesday : 18\n",
      "Thursday : 21\n",
      "Friday : 22\n",
      "Saturday : 12\n",
      "         Week 4 :\n",
      "Monday : 19\n",
      "Tuesday : 20\n",
      "Wednesday : 21\n",
      "Thursday : 18\n",
      "Friday : 18\n",
      "Saturday : 12\n"
     ]
    }
   ],
   "source": [
    "for i in range(2):\n",
    "    if i==0:\n",
    "        month=i+1\n",
    "    else:\n",
    "        month = i +2\n",
    "    print(\"             \",months[month])\n",
    "    for j in range(4):\n",
    "        print(\"        \",weeks[j],':')\n",
    "        for k in range(6):\n",
    "            print(days[k],':',temperature[month][j][k][1])"
   ]
  },
  {
   "cell_type": "code",
   "execution_count": null,
   "id": "2ea08bf1-488f-4945-ac1a-85a1fba82e91",
   "metadata": {},
   "outputs": [],
   "source": []
  }
 ],
 "metadata": {
  "kernelspec": {
   "display_name": "Python 3 (ipykernel)",
   "language": "python",
   "name": "python3"
  },
  "language_info": {
   "codemirror_mode": {
    "name": "ipython",
    "version": 3
   },
   "file_extension": ".py",
   "mimetype": "text/x-python",
   "name": "python",
   "nbconvert_exporter": "python",
   "pygments_lexer": "ipython3",
   "version": "3.9.13"
  }
 },
 "nbformat": 4,
 "nbformat_minor": 5
}
